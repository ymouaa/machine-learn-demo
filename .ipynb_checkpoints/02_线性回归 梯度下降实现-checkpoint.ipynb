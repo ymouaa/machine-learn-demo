{
 "cells": [
  {
   "cell_type": "markdown",
   "metadata": {},
   "source": [
    "### 0. 引入依赖"
   ]
  },
  {
   "cell_type": "code",
   "execution_count": 5,
   "metadata": {},
   "outputs": [],
   "source": [
    "import numpy as np\n",
    "import matplotlib.pyplot as plt\n",
    "points = np.genfromtxt('data.csv', delimiter=',')"
   ]
  },
  {
   "cell_type": "markdown",
   "metadata": {},
   "source": [
    "### 1.导入数据"
   ]
  },
  {
   "cell_type": "code",
   "execution_count": 6,
   "metadata": {},
   "outputs": [
    {
     "data": {
      "image/png": "[encoded data removed]",
      "text/plain": [
       "<Figure size 432x288 with 1 Axes>"
      ]
     },
     "metadata": {
      "needs_background": "light"
     },
     "output_type": "display_data"
    }
   ],
   "source": [
    "points = np.genfromtxt('data.csv', delimiter=',') #delimiter分割符\n",
    "\n",
    "# 提取points中的数据 作为(x,y)\n",
    "x = points[:,0]\n",
    "y = points[:,1]\n",
    "\n",
    "# 用plt画出散点图\n",
    "plt.scatter(x, y)\n",
    "plt.show()"
   ]
  },
  {
   "cell_type": "markdown",
   "metadata": {},
   "source": [
    "### 2.定义损失函数"
   ]
  },
  {
   "cell_type": "code",
   "execution_count": 7,
   "metadata": {},
   "outputs": [],
   "source": [
    "# 损失函数是 系数的函数，还需要传入数据points     \n",
    "def compute_cost(w, b, points):\n",
    "    total_cost = 0\n",
    "    M = len(points)\n",
    "    \n",
    "    # 逐点计算损失误差，然后求平均数\n",
    "    for i in range(M):\n",
    "        x = points[i, 0]\n",
    "        y = points[i, 1]\n",
    "        total_cost += (y - w*x - b) ** 2\n",
    "    \n",
    "    return total_cost / M"
   ]
  },
  {
   "cell_type": "markdown",
   "metadata": {},
   "source": [
    "### 3.定义模型的超参数"
   ]
  },
  {
   "cell_type": "code",
   "execution_count": 8,
   "metadata": {},
   "outputs": [],
   "source": [
    "alpha = 0.0001 # 步长，经验值\n",
    "# 起点\n",
    "initial_w = 0 \n",
    "initial_b = 0 \n",
    "num_iter = 10  # 迭代次数"
   ]
  },
  {
   "cell_type": "markdown",
   "metadata": {},
   "source": [
    "### 4.定义核心梯度下降算法函数"
   ]
  },
  {
   "cell_type": "code",
   "execution_count": 33,
   "metadata": {},
   "outputs": [],
   "source": [
    "def step_grad_desc(current_w, current_b, alpha, points):\n",
    "    sum_grad_w = 0\n",
    "    sum_grad_b = 0\n",
    "    M = len(points)\n",
    "    # 对每个点代入公式求和\n",
    "    for i in range(M):\n",
    "        x = points[i, 0]\n",
    "        y = points[i, 1]\n",
    "        sum_grad_w += (current_w * x + current_b - y) * x\n",
    "        sum_grad_b += current_w * x + current_b - y\n",
    "    \n",
    "    # 用公式求当前梯度\n",
    "    grad_w = sum_grad_w / M * 2\n",
    "    grad_b = sum_grad_b / M * 2 \n",
    "    \n",
    "    # 梯度下降，更新当前的w,b\n",
    "    updated_w = current_w - alpha * grad_w\n",
    "    updated_b = current_b - alpha * grad_b \n",
    "    return [updated_w, updated_b]\n",
    "\n",
    "def grad_desc(points, init_w, init_b, alpha, num_iter):\n",
    "    w = init_w\n",
    "    b = init_b\n",
    "    M = len(points)\n",
    "    \n",
    "    cost_list = []\n",
    "    for i in range(num_iter):\n",
    "        cost_list.append( compute_cost(w, b, points))\n",
    "        w, b = step_grad_desc(w, b, alpha, points)\n",
    "    \n",
    "    return [w, b, cost_list]"
   ]
  },
  {
   "cell_type": "markdown",
   "metadata": {},
   "source": [
    "### 5.测试 计算w和b"
   ]
  },
  {
   "cell_type": "code",
   "execution_count": 36,
   "metadata": {},
   "outputs": [
    {
     "name": "stdout",
     "output_type": "stream",
     "text": [
      "w is: {}  1.4774173755483797\n",
      "b is: {}  0.02963934787473238\n",
      "cost is: {} 112.65585181499748\n"
     ]
    },
    {
     "data": {
      "image/png": "[encoded data removed]",
      "text/plain": [
       "<Figure size 432x288 with 1 Axes>"
      ]
     },
     "metadata": {
      "needs_background": "light"
     },
     "output_type": "display_data"
    }
   ],
   "source": [
    "w, b, cost_list = grad_desc(points, initial_w, initial_b, alpha, num_iter)\n",
    "\n",
    "print(\"w is: {} \",w)\n",
    "print(\"b is: {} \",b)\n",
    "cost = compute_cost(w, b, points)\n",
    "print(\"cost is: {}\",cost)\n",
    "plt.plot(cost_list) # 默认下标索引为x，值为y\n",
    "plt.show()"
   ]
  },
  {
   "cell_type": "markdown",
   "metadata": {},
   "source": [
    "### 6.画出曲线"
   ]
  },
  {
   "cell_type": "code",
   "execution_count": 37,
   "metadata": {},
   "outputs": [
    {
     "data": {
      "image/png": "[encoded data removed]",
      "text/plain": [
       "<Figure size 432x288 with 1 Axes>"
      ]
     },
     "metadata": {
      "needs_background": "light"
     },
     "output_type": "display_data"
    }
   ],
   "source": [
    "plt.scatter(x, y)\n",
    "# 针对x 计算出 预测的y值\n",
    "# numpy可以这样写 x是一组，得到的predict_y也是一组值\n",
    "predict_y = x * w + b\n",
    "\n",
    "plt.plot(x, predict_y, c='r') # 点图 c代表颜色\n",
    "plt.show()"
   ]
  },
  {
   "cell_type": "markdown",
   "metadata": {},
   "source": [
    "### 使用sklean代码实现线性回归"
   ]
  },
  {
   "cell_type": "code",
   "execution_count": 41,
   "metadata": {},
   "outputs": [
    {
     "name": "stdout",
     "output_type": "stream",
     "text": [
      "w is: {}  [1.32243102]\n",
      "b is: {}  7.991020982270399\n",
      "cost is: {} [110.25738347]\n"
     ]
    }
   ],
   "source": [
    "from sklearn import linear_model\n",
    "\n",
    "lm = linear_model.LinearRegression()\n",
    "X = x.reshape(-1,1)\n",
    "model = lm.fit(X, y)\n",
    "print(\"w is: {} \", model.coef_)\n",
    "print(\"b is: {} \", model.intercept_)\n",
    "cost = compute_cost(model.coef_, model.intercept_, points)\n",
    "print(\"cost is: {}\",cost)"
   ]
  },
  {
   "cell_type": "code",
   "execution_count": 43,
   "metadata": {},
   "outputs": [
    {
     "data": {
      "image/png": "[encoded data removed]",
      "text/plain": [
       "<Figure size 432x288 with 1 Axes>"
      ]
     },
     "metadata": {
      "needs_background": "light"
     },
     "output_type": "display_data"
    }
   ],
   "source": [
    "plt.scatter(x, y)\n",
    "predict_y = x * model.coef_ + model.intercept_\n",
    "\n",
    "plt.plot(x, predict_y, c='r') \n",
    "plt.show()"
   ]
  }
 ],
 "metadata": {
  "kernelspec": {
   "display_name": "Python 3",
   "language": "python",
   "name": "python3"
  },
  "language_info": {
   "codemirror_mode": {
    "name": "ipython",
    "version": 3
   },
   "file_extension": ".py",
   "mimetype": "text/x-python",
   "name": "python",
   "nbconvert_exporter": "python",
   "pygments_lexer": "ipython3",
   "version": "3.7.6"
  }
 },
 "nbformat": 4,
 "nbformat_minor": 4
}
