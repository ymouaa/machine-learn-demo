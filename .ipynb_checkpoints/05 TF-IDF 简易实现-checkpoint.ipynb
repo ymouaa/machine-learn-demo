{
 "cells": [
  {
   "cell_type": "code",
   "execution_count": 1,
   "metadata": {},
   "outputs": [],
   "source": [
    "import numpy as np\n",
    "import pandas as pd"
   ]
  },
  {
   "cell_type": "code",
   "execution_count": 25,
   "metadata": {},
   "outputs": [
    {
     "data": {
      "text/plain": [
       "{'The', 'bed', 'cat', 'dog', 'knees', 'my', 'on', 'sat'}"
      ]
     },
     "execution_count": 25,
     "metadata": {},
     "output_type": "execute_result"
    }
   ],
   "source": [
    "docA = 'The cat sat on my bed'\n",
    "docB = 'The dog sat on my knees'\n",
    "\n",
    "bowA = docA.split(' ')\n",
    "bowB = docB.split(' ')\n",
    "\n",
    "# 构建词库\n",
    "wordSet = set(bowA).union(set(bowB))\n",
    "wordSet"
   ]
  },
  {
   "cell_type": "code",
   "execution_count": 15,
   "metadata": {},
   "outputs": [
    {
     "data": {
      "text/html": [
       "<div>\n",
       "<style scoped>\n",
       "    .dataframe tbody tr th:only-of-type {\n",
       "        vertical-align: middle;\n",
       "    }\n",
       "\n",
       "    .dataframe tbody tr th {\n",
       "        vertical-align: top;\n",
       "    }\n",
       "\n",
       "    .dataframe thead th {\n",
       "        text-align: right;\n",
       "    }\n",
       "</style>\n",
       "<table border=\"1\" class=\"dataframe\">\n",
       "  <thead>\n",
       "    <tr style=\"text-align: right;\">\n",
       "      <th></th>\n",
       "      <th>knees</th>\n",
       "      <th>cat</th>\n",
       "      <th>my</th>\n",
       "      <th>sat</th>\n",
       "      <th>The</th>\n",
       "      <th>on</th>\n",
       "      <th>bed</th>\n",
       "      <th>dog</th>\n",
       "    </tr>\n",
       "  </thead>\n",
       "  <tbody>\n",
       "    <tr>\n",
       "      <th>0</th>\n",
       "      <td>0</td>\n",
       "      <td>1</td>\n",
       "      <td>1</td>\n",
       "      <td>1</td>\n",
       "      <td>1</td>\n",
       "      <td>1</td>\n",
       "      <td>1</td>\n",
       "      <td>0</td>\n",
       "    </tr>\n",
       "    <tr>\n",
       "      <th>1</th>\n",
       "      <td>1</td>\n",
       "      <td>0</td>\n",
       "      <td>1</td>\n",
       "      <td>1</td>\n",
       "      <td>1</td>\n",
       "      <td>1</td>\n",
       "      <td>0</td>\n",
       "      <td>1</td>\n",
       "    </tr>\n",
       "  </tbody>\n",
       "</table>\n",
       "</div>"
      ],
      "text/plain": [
       "   knees  cat  my  sat  The  on  bed  dog\n",
       "0      0    1   1    1    1   1    1    0\n",
       "1      1    0   1    1    1   1    0    1"
      ]
     },
     "execution_count": 15,
     "metadata": {},
     "output_type": "execute_result"
    }
   ],
   "source": [
    "# 统计字典保存词出现的次数\n",
    "wordDictA = dict.fromkeys(wordSet,0)\n",
    "wordDictB = dict.fromkeys(wordSet,0)\n",
    "\n",
    "for word in bowA:\n",
    "    wordDictA[word] += 1\n",
    "for word in bowB:\n",
    "    wordDictB[word] += 1\n",
    "    \n",
    "df = pd.DataFrame([wordDictA, wordDictB])\n",
    "df"
   ]
  },
  {
   "cell_type": "code",
   "execution_count": 17,
   "metadata": {},
   "outputs": [
    {
     "data": {
      "text/plain": [
       "{'knees': 0.0,\n",
       " 'cat': 0.16666666666666666,\n",
       " 'my': 0.16666666666666666,\n",
       " 'sat': 0.16666666666666666,\n",
       " 'The': 0.16666666666666666,\n",
       " 'on': 0.16666666666666666,\n",
       " 'bed': 0.16666666666666666,\n",
       " 'dog': 0.0}"
      ]
     },
     "execution_count": 17,
     "metadata": {},
     "output_type": "execute_result"
    }
   ],
   "source": [
    "## 计算词频TF\n",
    "def computeTF(wordDict, bow):\n",
    "    tfDict = {}\n",
    "    nbowCount = len(bow)\n",
    "    for word, cnt in wordDict.items():\n",
    "        tfDict[word] = cnt / nbowCount\n",
    "    return tfDict\n",
    "\n",
    "tfA = computeTF(wordDictA, bowA)\n",
    "tfB = computeTF(wordDictB, bowB)\n",
    "tfA"
   ]
  },
  {
   "cell_type": "code",
   "execution_count": 23,
   "metadata": {},
   "outputs": [
    {
     "data": {
      "text/plain": [
       "{'knees': 0.6020599913279624,\n",
       " 'cat': 0.6020599913279624,\n",
       " 'my': 0.5440680443502757,\n",
       " 'sat': 0.5440680443502757,\n",
       " 'The': 0.5440680443502757,\n",
       " 'on': 0.5440680443502757,\n",
       " 'bed': 0.6020599913279624,\n",
       " 'dog': 0.6020599913279624}"
      ]
     },
     "execution_count": 23,
     "metadata": {},
     "output_type": "execute_result"
    }
   ],
   "source": []
  },
  {
   "cell_type": "code",
   "execution_count": 31,
   "metadata": {},
   "outputs": [
    {
     "data": {
      "text/plain": [
       "{'knees': 0.17609125905568124,\n",
       " 'cat': 0.17609125905568124,\n",
       " 'my': 0.0,\n",
       " 'sat': 0.0,\n",
       " 'The': 0.0,\n",
       " 'on': 0.0,\n",
       " 'bed': 0.17609125905568124,\n",
       " 'dog': 0.17609125905568124}"
      ]
     },
     "execution_count": 31,
     "metadata": {},
     "output_type": "execute_result"
    }
   ],
   "source": [
    "import math\n",
    "## 计算逆文档频率idf\n",
    "# 𝐼𝐷𝐹𝑖 = log(𝑁 + 1 / 𝑁𝑖 + 1)\n",
    "def computeIDF(wordDictList):\n",
    "    idfDict = dict.fromkeys(wordDictList[0], 0)\n",
    "    N = len(wordDictList)\n",
    "    for wordDict in wordDictList:\n",
    "        for word, cnt in wordDict.items():\n",
    "            if cnt > 0:\n",
    "                idfDict[word] += 1\n",
    "    for word, cnt in idfDict.items():\n",
    "        idfDict[word] = math.log10( (N + 1) / (cnt + 1))\n",
    "    return idfDict\n",
    "idfs = computeIDF([wordDictA, wordDictB])\n",
    "idfs"
   ]
  },
  {
   "cell_type": "code",
   "execution_count": 34,
   "metadata": {},
   "outputs": [
    {
     "data": {
      "text/html": [
       "<div>\n",
       "<style scoped>\n",
       "    .dataframe tbody tr th:only-of-type {\n",
       "        vertical-align: middle;\n",
       "    }\n",
       "\n",
       "    .dataframe tbody tr th {\n",
       "        vertical-align: top;\n",
       "    }\n",
       "\n",
       "    .dataframe thead th {\n",
       "        text-align: right;\n",
       "    }\n",
       "</style>\n",
       "<table border=\"1\" class=\"dataframe\">\n",
       "  <thead>\n",
       "    <tr style=\"text-align: right;\">\n",
       "      <th></th>\n",
       "      <th>knees</th>\n",
       "      <th>cat</th>\n",
       "      <th>my</th>\n",
       "      <th>sat</th>\n",
       "      <th>The</th>\n",
       "      <th>on</th>\n",
       "      <th>bed</th>\n",
       "      <th>dog</th>\n",
       "    </tr>\n",
       "  </thead>\n",
       "  <tbody>\n",
       "    <tr>\n",
       "      <th>0</th>\n",
       "      <td>0.0</td>\n",
       "      <td>0.029349</td>\n",
       "      <td>0.0</td>\n",
       "      <td>0.0</td>\n",
       "      <td>0.0</td>\n",
       "      <td>0.0</td>\n",
       "      <td>0.029349</td>\n",
       "      <td>0.0</td>\n",
       "    </tr>\n",
       "    <tr>\n",
       "      <th>1</th>\n",
       "      <td>0.0</td>\n",
       "      <td>0.029349</td>\n",
       "      <td>0.0</td>\n",
       "      <td>0.0</td>\n",
       "      <td>0.0</td>\n",
       "      <td>0.0</td>\n",
       "      <td>0.029349</td>\n",
       "      <td>0.0</td>\n",
       "    </tr>\n",
       "  </tbody>\n",
       "</table>\n",
       "</div>"
      ],
      "text/plain": [
       "   knees       cat   my  sat  The   on       bed  dog\n",
       "0    0.0  0.029349  0.0  0.0  0.0  0.0  0.029349  0.0\n",
       "1    0.0  0.029349  0.0  0.0  0.0  0.0  0.029349  0.0"
      ]
     },
     "execution_count": 34,
     "metadata": {},
     "output_type": "execute_result"
    }
   ],
   "source": [
    "## 计算TF-IDF\n",
    "def computeTFIDF(tf, idf):\n",
    "    tfidfs = {}\n",
    "    for word, tf_val in tf.items():\n",
    "        tfidfs[word] = tf_val * idf[word]\n",
    "    return tfidfs\n",
    "tfidf_a = computeTFIDF(tfA, idfs)\n",
    "tfidf_b = computeTFIDF(tfA, idfs)\n",
    "pd.DataFrame([tfidf_a, tfidf_b])"
   ]
  },
  {
   "cell_type": "code",
   "execution_count": null,
   "metadata": {},
   "outputs": [],
   "source": []
  }
 ],
 "metadata": {
  "kernelspec": {
   "display_name": "Python 3",
   "language": "python",
   "name": "python3"
  },
  "language_info": {
   "codemirror_mode": {
    "name": "ipython",
    "version": 3
   },
   "file_extension": ".py",
   "mimetype": "text/x-python",
   "name": "python",
   "nbconvert_exporter": "python",
   "pygments_lexer": "ipython3",
   "version": "3.7.6"
  }
 },
 "nbformat": 4,
 "nbformat_minor": 4
}
